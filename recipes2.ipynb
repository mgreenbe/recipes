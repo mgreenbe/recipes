{
 "cells": [
  {
   "cell_type": "code",
   "execution_count": 1,
   "metadata": {},
   "outputs": [],
   "source": [
    "import numpy as np\n",
    "import json\n",
    "from sklearn.feature_extraction.text import CountVectorizer\n",
    "from matplotlib import pyplot as plt"
   ]
  },
  {
   "cell_type": "code",
   "execution_count": 71,
   "metadata": {},
   "outputs": [],
   "source": [
    "MIN_INGREDIENTS = 5"
   ]
  },
  {
   "cell_type": "code",
   "execution_count": 116,
   "metadata": {},
   "outputs": [],
   "source": [
    "f = open(\"train.json\", 'r')\n",
    "recipes = json.load(f)\n",
    "cuisines = list({r[\"cuisine\"] for r in recipes})\n",
    "n_recipes = len(recipes)\n",
    "n_cuisines = len(cuisines)"
   ]
  },
  {
   "cell_type": "code",
   "execution_count": 117,
   "metadata": {},
   "outputs": [
    {
     "name": "stdout",
     "output_type": "stream",
     "text": [
      "39774\n",
      "34581\n",
      "34506\n",
      "34506\n",
      "34506\n"
     ]
    }
   ],
   "source": [
    "corpus = [' '.join([''.join(i.split()) for i in r[\"ingredients\"]]) for r in recipes]\n",
    "vectorizer = CountVectorizer(stop_words=\"english\", max_df=0.1, min_df=5/len(corpus))\n",
    "print(len(corpus))\n",
    "\n",
    "for _ in range(3):\n",
    "    M = vectorizer.fit_transform(corpus)\n",
    "    N = vectorizer.inverse_transform(M)\n",
    "    I = [i for i, r in enumerate(N) if len(r) < MIN_INGREDIENTS]\n",
    "    recipes = [r for i, r in enumerate(recipes) if i not in I]\n",
    "    corpus = [' '.join([''.join(i.split()) for i in r[\"ingredients\"]]) for r in recipes]\n",
    "    print(len(corpus))\n",
    "\n",
    "I = [[i for i, r in enumerate(recipes) if r[\"cuisine\"] == c] for c in cuisines]\n",
    "print(sum([len(i) for i in I]))"
   ]
  },
  {
   "cell_type": "code",
   "execution_count": 120,
   "metadata": {},
   "outputs": [
    {
     "name": "stdout",
     "output_type": "stream",
     "text": [
      "(872, 3223)\n"
     ]
    }
   ],
   "source": [
    "print(M[I[1],:].shape)"
   ]
  },
  {
   "cell_type": "code",
   "execution_count": 95,
   "metadata": {},
   "outputs": [
    {
     "data": {
      "text/plain": "34506"
     },
     "execution_count": 95,
     "metadata": {},
     "output_type": "execute_result"
    }
   ],
   "source": [
    "len(recipes)"
   ]
  },
  {
   "cell_type": "code",
   "execution_count": 98,
   "metadata": {},
   "outputs": [
    {
     "data": {
      "text/plain": "5"
     },
     "execution_count": 98,
     "metadata": {},
     "output_type": "execute_result"
    }
   ],
   "source": [
    "np.min(M.sum(axis=0))"
   ]
  },
  {
   "cell_type": "code",
   "execution_count": 60,
   "metadata": {},
   "outputs": [
    {
     "name": "stdout",
     "output_type": "stream",
     "text": [
      "(38694, 3345)\n",
      "(38681, 3345)\n",
      "(38681, 3345)\n",
      "(38681, 3345)\n",
      "(38681, 3345)\n",
      "(38681, 3345)\n",
      "(38681, 3345)\n",
      "(38681, 3345)\n",
      "(38681, 3345)\n",
      "(38681, 3345)\n"
     ]
    }
   ],
   "source": [
    "for _ in range(10):\n",
    "    cc = [' '.join(n) for n in N if len(n) > 3]\n",
    "    MM = vectorizer.fit_transform(cc)\n",
    "    print(MM.shape)\n",
    "    N = vectorizer.inverse_transform(MM)"
   ]
  },
  {
   "cell_type": "code",
   "execution_count": 57,
   "metadata": {},
   "outputs": [
    {
     "data": {
      "text/plain": "(38694, 3345)"
     },
     "execution_count": 57,
     "metadata": {},
     "output_type": "execute_result"
    }
   ],
   "source": [
    "MM.shape"
   ]
  },
  {
   "cell_type": "code",
   "execution_count": 58,
   "metadata": {},
   "outputs": [
    {
     "data": {
      "text/plain": "(39774, 3376)"
     },
     "execution_count": 58,
     "metadata": {},
     "output_type": "execute_result"
    }
   ],
   "source": [
    "M.shape"
   ]
  },
  {
   "cell_type": "code",
   "execution_count": 63,
   "metadata": {},
   "outputs": [],
   "source": [
    "I = [i for i, r in enumerate(N) if len(r) < 3]"
   ]
  },
  {
   "cell_type": "code",
   "execution_count": 112,
   "metadata": {},
   "outputs": [
    {
     "data": {
      "text/plain": "39774"
     },
     "execution_count": 112,
     "metadata": {},
     "output_type": "execute_result"
    }
   ],
   "source": [
    "sum([len(i) for i in I])"
   ]
  },
  {
   "cell_type": "code",
   "execution_count": 127,
   "metadata": {},
   "outputs": [],
   "source": [
    "J = np.asarray(M.sum(axis=1)).reshape(-1) == 7"
   ]
  },
  {
   "cell_type": "code",
   "execution_count": 133,
   "metadata": {},
   "outputs": [
    {
     "data": {
      "text/plain": "437"
     },
     "execution_count": 133,
     "metadata": {},
     "output_type": "execute_result"
    }
   ],
   "source": [
    "np.sum(M[J, :].sum(axis=0)==2)"
   ]
  },
  {
   "cell_type": "code",
   "execution_count": null,
   "metadata": {},
   "outputs": [],
   "source": []
  }
 ],
 "metadata": {
  "kernelspec": {
   "display_name": "Python 3",
   "language": "python",
   "name": "python3"
  },
  "language_info": {
   "codemirror_mode": {
    "name": "ipython",
    "version": 3
   },
   "file_extension": ".py",
   "mimetype": "text/x-python",
   "name": "python",
   "nbconvert_exporter": "python",
   "pygments_lexer": "ipython3",
   "version": "3.8.6"
  },
  "orig_nbformat": 2
 },
 "nbformat": 4,
 "nbformat_minor": 2
}